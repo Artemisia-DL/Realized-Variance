{
 "cells": [
  {
   "cell_type": "code",
   "execution_count": 1,
   "metadata": {},
   "outputs": [],
   "source": [
    "from main import importdataset, interpolateT, interpolateK\n",
    "import pandas as pd\n",
    "import numpy as np\n",
    "from datetime import datetime\n",
    "import matplotlib.pyplot as plt\n",
    "import time\n",
    "import random"
   ]
  },
  {
   "cell_type": "code",
   "execution_count": 2,
   "metadata": {},
   "outputs": [
    {
     "name": "stdout",
     "output_type": "stream",
     "text": [
      "The dataset contains 49.33926639530743 % of ITM options. They should be dropped.\n",
      "The dataset optionSPX contains 0 NaN entries. They should be fixed.\n",
      "The dataset optionSPX contains 0 negative entries for positive-definite variables. They should be fixed.\n"
     ]
    }
   ],
   "source": [
    "#Import the data using importdataset() from ImportData.py\n",
    "optionSPX, priceSPX, zcr, SPXclose = importdataset()"
   ]
  },
  {
   "cell_type": "code",
   "execution_count": 3,
   "metadata": {},
   "outputs": [],
   "source": [
    "#Split Call and Put\n",
    "#We keep only OTM Call, while for the put we keep also the ATM one. This way the ATM will always be a PUT option\n",
    "callSPX = optionSPX[(optionSPX['cp_flag']=='C') & (optionSPX['strike_price']>optionSPX['ATM_strike']-20)].copy() #Select only OTM Call\n",
    "callSPX = callSPX[['date','cp_flag','strike_price','expT','mid_price','close','ITM','ATM_strike']]\n",
    "\n",
    "putSPX =  optionSPX[(optionSPX['cp_flag']=='P') & (optionSPX['strike_price']<=optionSPX['ATM_strike']+20)].copy() #Select only OTM Put\n",
    "putSPX =  putSPX[['date','cp_flag','strike_price','expT','mid_price','close','ITM','ATM_strike']]\n"
   ]
  },
  {
   "cell_type": "code",
   "execution_count": 4,
   "metadata": {},
   "outputs": [
    {
     "ename": "SyntaxError",
     "evalue": "invalid syntax (<ipython-input-4-60eb2ddbc405>, line 1)",
     "output_type": "error",
     "traceback": [
      "\u001b[0;36m  File \u001b[0;32m\"<ipython-input-4-60eb2ddbc405>\"\u001b[0;36m, line \u001b[0;32m1\u001b[0m\n\u001b[0;31m    callSPX[callSPX.date=19960104]\u001b[0m\n\u001b[0m                        ^\u001b[0m\n\u001b[0;31mSyntaxError\u001b[0m\u001b[0;31m:\u001b[0m invalid syntax\n"
     ]
    }
   ],
   "source": [
    "callSPX[callSPX.date=19960104]"
   ]
  },
  {
   "cell_type": "code",
   "execution_count": null,
   "metadata": {},
   "outputs": [],
   "source": [
    "callSPX.interpolate"
   ]
  },
  {
   "cell_type": "code",
   "execution_count": null,
   "metadata": {},
   "outputs": [],
   "source": []
  },
  {
   "cell_type": "code",
   "execution_count": 2,
   "metadata": {},
   "outputs": [],
   "source": []
  },
  {
   "cell_type": "markdown",
   "metadata": {},
   "source": [
    "### Interpolation"
   ]
  },
  {
   "cell_type": "code",
   "execution_count": null,
   "metadata": {},
   "outputs": [],
   "source": [
    "try:\n",
    "    #First interpolateT and after interpolateK\n",
    "    call30 = interpolateT(callSPX,30)\n",
    "    call30.to_csv('/home/student/surface/Realized Variance/DatasetSPX/New Interpolation/call30TimeInt.csv')\n",
    "except ExplicitException:\n",
    "    pass\n",
    "\n",
    "try:\n",
    "    miscall30 = interpolateK(call30,cp_flag='C',max_expT=200,min_expT=0)\n",
    "    miscall30.to_csv('/home/student/surface/Realized Variance/DatasetSPX/New Interpolation/call30TimeInt_missing.csv')\n",
    "except ExplicitException:\n",
    "    pass\n",
    "\n",
    "try:\n",
    "    put30 = interpolateT(putSPX,30)\n",
    "    put30.to_csv('/home/student/surface/Realized Variance/DatasetSPX/New Interpolation/put30TimeInt.csv')\n",
    "except ExplicitException:\n",
    "    pass\n",
    "\n",
    "try:\n",
    "    mis_put30 = interpolateK(put30,cp_flag='C',max_expT=200,min_expT=0)\n",
    "    mis_put30.to_csv('/home/student/surface/Realized Variance/DatasetSPX/New Interpolation/put30TimeInt_missing.csv')\n",
    "except ExplicitException:\n",
    "    pass\n",
    "\n",
    "try:\n",
    "    #First interpolateK and after interpolateT\n",
    "    call30 = interpolateK(callSPX,cp_flag='C',max_expT=100,min_expT=0)\n",
    "    call30.to_csv('/home/student/surface/Realized Variance/DatasetSPX/New Interpolation/call30StrikeInt.csv')\n",
    "except ExplicitException:\n",
    "    pass\n",
    "\n",
    "try:\n",
    "    miscall30 = interpolateT(call30,30)\n",
    "    miscall30.to_csv('/home/student/surface/Realized Variance/DatasetSPX/New Interpolation/call30StrikeInt_T.csv')\n",
    "except ExplicitException:\n",
    "    pass\n",
    "\n",
    "try:\n",
    "    put30 = interpolateK(putSPX,cp_flag='C',max_expT=100,min_expT=0)\n",
    "    put30.to_csv('/home/student/surface/Realized Variance/DatasetSPX/New Interpolation/put30StrikeInt.csv')\n",
    "except ExplicitException:\n",
    "    pass\n",
    "\n",
    "try:\n",
    "    mis_put30 = interpolateT(put30,30)\n",
    "    mis_put30.to_csv('/home/student/surface/Realized Variance/DatasetSPX/New Interpolation/put30StrikeInt_T.csv')\n",
    "except ExplicitException:\n",
    "    pass\n",
    "\n"
   ]
  },
  {
   "cell_type": "code",
   "execution_count": null,
   "metadata": {},
   "outputs": [],
   "source": []
  },
  {
   "cell_type": "markdown",
   "metadata": {},
   "source": [
    "# Some Data Exploration"
   ]
  },
  {
   "cell_type": "code",
   "execution_count": 220,
   "metadata": {},
   "outputs": [
    {
     "data": {
      "text/plain": [
       "Text(0.5, 1.0, 'Date: 04-02-1998\\nOTM Call Option')"
      ]
     },
     "execution_count": 220,
     "metadata": {},
     "output_type": "execute_result"
    },
    {
     "data": {
      "image/png": "[encoded data removed]",
      "text/plain": [
       "<Figure size 432x288 with 1 Axes>"
      ]
     },
     "metadata": {
      "needs_background": "light"
     },
     "output_type": "display_data"
    }
   ],
   "source": [
    "#date = random.randint(1996,2017)*10000 + random.randint(1,12) *100 + random.randint(1,28)\n",
    "plt.plot(call30[(call30['date']==date) & (call30['OTM_K']<=200)].sort_values(by=['date','expT','strike_price'])['OTM_K'],\n",
    "         call30[(call30['date']==date) & (call30['OTM_K']<=200)].sort_values(by=['date','expT','strike_price'])['mid_price'],\n",
    "          color='g')\n",
    "\n",
    "plt.plot(test[test['date']==date].sort_values(by=['date','expT','strike_price'])['OTM_K'],\n",
    "         test[test['date']==date].sort_values(by=['date','expT','strike_price'])['mid_price'],\n",
    "          color='r')\n",
    "\n",
    "plt.plot(np.linspace(0,200,40),np.zeros(40),color='b')\n",
    "\n",
    "plt.xlabel('Distance From ATM')\n",
    "plt.ylabel('OptionPrice')\n",
    "plt.legend(['Observed','Interpolated','Zero LvL'])\n",
    "plt.title('Date: 04-02-1998\\nOTM Call Option')"
   ]
  },
  {
   "cell_type": "code",
   "execution_count": 219,
   "metadata": {},
   "outputs": [
    {
     "data": {
      "text/html": [
       "<div>\n",
       "<style scoped>\n",
       "    .dataframe tbody tr th:only-of-type {\n",
       "        vertical-align: middle;\n",
       "    }\n",
       "\n",
       "    .dataframe tbody tr th {\n",
       "        vertical-align: top;\n",
       "    }\n",
       "\n",
       "    .dataframe thead th {\n",
       "        text-align: right;\n",
       "    }\n",
       "</style>\n",
       "<table border=\"1\" class=\"dataframe\">\n",
       "  <thead>\n",
       "    <tr style=\"text-align: right;\">\n",
       "      <th></th>\n",
       "      <th>Unnamed: 0</th>\n",
       "      <th>date</th>\n",
       "      <th>cp_flag</th>\n",
       "      <th>strike_price</th>\n",
       "      <th>expT</th>\n",
       "      <th>mid_price</th>\n",
       "      <th>close</th>\n",
       "      <th>ITM</th>\n",
       "      <th>ATM_strike</th>\n",
       "      <th>OTM_K</th>\n",
       "    </tr>\n",
       "  </thead>\n",
       "  <tbody>\n",
       "    <tr>\n",
       "      <td>5470</td>\n",
       "      <td>103807</td>\n",
       "      <td>19980204</td>\n",
       "      <td>C</td>\n",
       "      <td>1005.0</td>\n",
       "      <td>30</td>\n",
       "      <td>21.450893</td>\n",
       "      <td>1006.9</td>\n",
       "      <td>0</td>\n",
       "      <td>1005</td>\n",
       "      <td>0.0</td>\n",
       "    </tr>\n",
       "    <tr>\n",
       "      <td>5471</td>\n",
       "      <td>103809</td>\n",
       "      <td>19980204</td>\n",
       "      <td>C</td>\n",
       "      <td>1010.0</td>\n",
       "      <td>30</td>\n",
       "      <td>18.475446</td>\n",
       "      <td>1006.9</td>\n",
       "      <td>0</td>\n",
       "      <td>1005</td>\n",
       "      <td>5.0</td>\n",
       "    </tr>\n",
       "    <tr>\n",
       "      <td>5472</td>\n",
       "      <td>103811</td>\n",
       "      <td>19980204</td>\n",
       "      <td>C</td>\n",
       "      <td>1015.0</td>\n",
       "      <td>30</td>\n",
       "      <td>16.218750</td>\n",
       "      <td>1006.9</td>\n",
       "      <td>0</td>\n",
       "      <td>1005</td>\n",
       "      <td>10.0</td>\n",
       "    </tr>\n",
       "    <tr>\n",
       "      <td>5473</td>\n",
       "      <td>103813</td>\n",
       "      <td>19980204</td>\n",
       "      <td>C</td>\n",
       "      <td>1020.0</td>\n",
       "      <td>30</td>\n",
       "      <td>13.919643</td>\n",
       "      <td>1006.9</td>\n",
       "      <td>0</td>\n",
       "      <td>1005</td>\n",
       "      <td>15.0</td>\n",
       "    </tr>\n",
       "    <tr>\n",
       "      <td>5474</td>\n",
       "      <td>103815</td>\n",
       "      <td>19980204</td>\n",
       "      <td>C</td>\n",
       "      <td>1025.0</td>\n",
       "      <td>30</td>\n",
       "      <td>11.888393</td>\n",
       "      <td>1006.9</td>\n",
       "      <td>0</td>\n",
       "      <td>1005</td>\n",
       "      <td>20.0</td>\n",
       "    </tr>\n",
       "    <tr>\n",
       "      <td>5475</td>\n",
       "      <td>103817</td>\n",
       "      <td>19980204</td>\n",
       "      <td>C</td>\n",
       "      <td>1030.0</td>\n",
       "      <td>30</td>\n",
       "      <td>10.165179</td>\n",
       "      <td>1006.9</td>\n",
       "      <td>0</td>\n",
       "      <td>1005</td>\n",
       "      <td>25.0</td>\n",
       "    </tr>\n",
       "    <tr>\n",
       "      <td>5476</td>\n",
       "      <td>103819</td>\n",
       "      <td>19980204</td>\n",
       "      <td>C</td>\n",
       "      <td>1040.0</td>\n",
       "      <td>30</td>\n",
       "      <td>7.285714</td>\n",
       "      <td>1006.9</td>\n",
       "      <td>0</td>\n",
       "      <td>1005</td>\n",
       "      <td>35.0</td>\n",
       "    </tr>\n",
       "    <tr>\n",
       "      <td>5477</td>\n",
       "      <td>103821</td>\n",
       "      <td>19980204</td>\n",
       "      <td>C</td>\n",
       "      <td>1050.0</td>\n",
       "      <td>30</td>\n",
       "      <td>4.948661</td>\n",
       "      <td>1006.9</td>\n",
       "      <td>0</td>\n",
       "      <td>1005</td>\n",
       "      <td>45.0</td>\n",
       "    </tr>\n",
       "    <tr>\n",
       "      <td>5478</td>\n",
       "      <td>103825</td>\n",
       "      <td>19980204</td>\n",
       "      <td>C</td>\n",
       "      <td>1060.0</td>\n",
       "      <td>30</td>\n",
       "      <td>3.669643</td>\n",
       "      <td>1006.9</td>\n",
       "      <td>0</td>\n",
       "      <td>1005</td>\n",
       "      <td>55.0</td>\n",
       "    </tr>\n",
       "    <tr>\n",
       "      <td>5479</td>\n",
       "      <td>103827</td>\n",
       "      <td>19980204</td>\n",
       "      <td>C</td>\n",
       "      <td>1075.0</td>\n",
       "      <td>30</td>\n",
       "      <td>2.116071</td>\n",
       "      <td>1006.9</td>\n",
       "      <td>0</td>\n",
       "      <td>1005</td>\n",
       "      <td>70.0</td>\n",
       "    </tr>\n",
       "  </tbody>\n",
       "</table>\n",
       "</div>"
      ],
      "text/plain": [
       "      Unnamed: 0      date cp_flag  strike_price  expT  mid_price   close  \\\n",
       "5470      103807  19980204       C        1005.0    30  21.450893  1006.9   \n",
       "5471      103809  19980204       C        1010.0    30  18.475446  1006.9   \n",
       "5472      103811  19980204       C        1015.0    30  16.218750  1006.9   \n",
       "5473      103813  19980204       C        1020.0    30  13.919643  1006.9   \n",
       "5474      103815  19980204       C        1025.0    30  11.888393  1006.9   \n",
       "5475      103817  19980204       C        1030.0    30  10.165179  1006.9   \n",
       "5476      103819  19980204       C        1040.0    30   7.285714  1006.9   \n",
       "5477      103821  19980204       C        1050.0    30   4.948661  1006.9   \n",
       "5478      103825  19980204       C        1060.0    30   3.669643  1006.9   \n",
       "5479      103827  19980204       C        1075.0    30   2.116071  1006.9   \n",
       "\n",
       "      ITM  ATM_strike  OTM_K  \n",
       "5470    0        1005    0.0  \n",
       "5471    0        1005    5.0  \n",
       "5472    0        1005   10.0  \n",
       "5473    0        1005   15.0  \n",
       "5474    0        1005   20.0  \n",
       "5475    0        1005   25.0  \n",
       "5476    0        1005   35.0  \n",
       "5477    0        1005   45.0  \n",
       "5478    0        1005   55.0  \n",
       "5479    0        1005   70.0  "
      ]
     },
     "execution_count": 219,
     "metadata": {},
     "output_type": "execute_result"
    }
   ],
   "source": [
    "call30[call30['date']==date].sort_values(by=['date','expT','strike_price'])"
   ]
  },
  {
   "cell_type": "code",
   "execution_count": 95,
   "metadata": {},
   "outputs": [
    {
     "data": {
      "text/html": [
       "<div>\n",
       "<style scoped>\n",
       "    .dataframe tbody tr th:only-of-type {\n",
       "        vertical-align: middle;\n",
       "    }\n",
       "\n",
       "    .dataframe tbody tr th {\n",
       "        vertical-align: top;\n",
       "    }\n",
       "\n",
       "    .dataframe thead th {\n",
       "        text-align: right;\n",
       "    }\n",
       "</style>\n",
       "<table border=\"1\" class=\"dataframe\">\n",
       "  <thead>\n",
       "    <tr style=\"text-align: right;\">\n",
       "      <th></th>\n",
       "      <th>Unnamed: 0</th>\n",
       "      <th>Unnamed: 0.1</th>\n",
       "      <th>date</th>\n",
       "      <th>cp_flag</th>\n",
       "      <th>strike_price</th>\n",
       "      <th>expT</th>\n",
       "      <th>mid_price</th>\n",
       "      <th>close</th>\n",
       "      <th>ITM</th>\n",
       "      <th>ATM_strike</th>\n",
       "      <th>OTM_K</th>\n",
       "    </tr>\n",
       "  </thead>\n",
       "  <tbody>\n",
       "    <tr>\n",
       "      <td>75418</td>\n",
       "      <td>42529</td>\n",
       "      <td>737783</td>\n",
       "      <td>20070625</td>\n",
       "      <td>C</td>\n",
       "      <td>1605</td>\n",
       "      <td>30</td>\n",
       "      <td>0.641071</td>\n",
       "      <td>1497.74</td>\n",
       "      <td>0</td>\n",
       "      <td>1500</td>\n",
       "      <td>105</td>\n",
       "    </tr>\n",
       "    <tr>\n",
       "      <td>75419</td>\n",
       "      <td>42529</td>\n",
       "      <td>737783</td>\n",
       "      <td>20070625</td>\n",
       "      <td>C</td>\n",
       "      <td>1610</td>\n",
       "      <td>30</td>\n",
       "      <td>0.525000</td>\n",
       "      <td>1497.74</td>\n",
       "      <td>0</td>\n",
       "      <td>1500</td>\n",
       "      <td>110</td>\n",
       "    </tr>\n",
       "    <tr>\n",
       "      <td>75420</td>\n",
       "      <td>42529</td>\n",
       "      <td>737783</td>\n",
       "      <td>20070625</td>\n",
       "      <td>C</td>\n",
       "      <td>1615</td>\n",
       "      <td>30</td>\n",
       "      <td>0.408929</td>\n",
       "      <td>1497.74</td>\n",
       "      <td>0</td>\n",
       "      <td>1500</td>\n",
       "      <td>115</td>\n",
       "    </tr>\n",
       "    <tr>\n",
       "      <td>75421</td>\n",
       "      <td>42532</td>\n",
       "      <td>737791</td>\n",
       "      <td>20070625</td>\n",
       "      <td>C</td>\n",
       "      <td>1635</td>\n",
       "      <td>30</td>\n",
       "      <td>0.175000</td>\n",
       "      <td>1497.74</td>\n",
       "      <td>0</td>\n",
       "      <td>1500</td>\n",
       "      <td>135</td>\n",
       "    </tr>\n",
       "    <tr>\n",
       "      <td>75422</td>\n",
       "      <td>42533</td>\n",
       "      <td>737793</td>\n",
       "      <td>20070625</td>\n",
       "      <td>C</td>\n",
       "      <td>1645</td>\n",
       "      <td>30</td>\n",
       "      <td>0.135714</td>\n",
       "      <td>1497.74</td>\n",
       "      <td>0</td>\n",
       "      <td>1500</td>\n",
       "      <td>145</td>\n",
       "    </tr>\n",
       "    <tr>\n",
       "      <td>75423</td>\n",
       "      <td>42534</td>\n",
       "      <td>737795</td>\n",
       "      <td>20070625</td>\n",
       "      <td>C</td>\n",
       "      <td>1655</td>\n",
       "      <td>30</td>\n",
       "      <td>0.207143</td>\n",
       "      <td>1497.74</td>\n",
       "      <td>0</td>\n",
       "      <td>1500</td>\n",
       "      <td>155</td>\n",
       "    </tr>\n",
       "    <tr>\n",
       "      <td>75424</td>\n",
       "      <td>42534</td>\n",
       "      <td>737795</td>\n",
       "      <td>20070625</td>\n",
       "      <td>C</td>\n",
       "      <td>1665</td>\n",
       "      <td>30</td>\n",
       "      <td>0.307143</td>\n",
       "      <td>1497.74</td>\n",
       "      <td>0</td>\n",
       "      <td>1500</td>\n",
       "      <td>165</td>\n",
       "    </tr>\n",
       "    <tr>\n",
       "      <td>75425</td>\n",
       "      <td>42534</td>\n",
       "      <td>737795</td>\n",
       "      <td>20070625</td>\n",
       "      <td>C</td>\n",
       "      <td>1670</td>\n",
       "      <td>30</td>\n",
       "      <td>0.357143</td>\n",
       "      <td>1497.74</td>\n",
       "      <td>0</td>\n",
       "      <td>1500</td>\n",
       "      <td>170</td>\n",
       "    </tr>\n",
       "    <tr>\n",
       "      <td>75426</td>\n",
       "      <td>42534</td>\n",
       "      <td>737795</td>\n",
       "      <td>20070625</td>\n",
       "      <td>C</td>\n",
       "      <td>1675</td>\n",
       "      <td>30</td>\n",
       "      <td>0.407143</td>\n",
       "      <td>1497.74</td>\n",
       "      <td>0</td>\n",
       "      <td>1500</td>\n",
       "      <td>175</td>\n",
       "    </tr>\n",
       "    <tr>\n",
       "      <td>75427</td>\n",
       "      <td>42534</td>\n",
       "      <td>737795</td>\n",
       "      <td>20070625</td>\n",
       "      <td>C</td>\n",
       "      <td>1680</td>\n",
       "      <td>30</td>\n",
       "      <td>0.457143</td>\n",
       "      <td>1497.74</td>\n",
       "      <td>0</td>\n",
       "      <td>1500</td>\n",
       "      <td>180</td>\n",
       "    </tr>\n",
       "    <tr>\n",
       "      <td>75428</td>\n",
       "      <td>42534</td>\n",
       "      <td>737795</td>\n",
       "      <td>20070625</td>\n",
       "      <td>C</td>\n",
       "      <td>1685</td>\n",
       "      <td>30</td>\n",
       "      <td>0.507143</td>\n",
       "      <td>1497.74</td>\n",
       "      <td>0</td>\n",
       "      <td>1500</td>\n",
       "      <td>185</td>\n",
       "    </tr>\n",
       "    <tr>\n",
       "      <td>75429</td>\n",
       "      <td>42534</td>\n",
       "      <td>737795</td>\n",
       "      <td>20070625</td>\n",
       "      <td>C</td>\n",
       "      <td>1690</td>\n",
       "      <td>30</td>\n",
       "      <td>0.557143</td>\n",
       "      <td>1497.74</td>\n",
       "      <td>0</td>\n",
       "      <td>1500</td>\n",
       "      <td>190</td>\n",
       "    </tr>\n",
       "    <tr>\n",
       "      <td>75430</td>\n",
       "      <td>42534</td>\n",
       "      <td>737795</td>\n",
       "      <td>20070625</td>\n",
       "      <td>C</td>\n",
       "      <td>1695</td>\n",
       "      <td>30</td>\n",
       "      <td>0.607143</td>\n",
       "      <td>1497.74</td>\n",
       "      <td>0</td>\n",
       "      <td>1500</td>\n",
       "      <td>195</td>\n",
       "    </tr>\n",
       "    <tr>\n",
       "      <td>75431</td>\n",
       "      <td>42534</td>\n",
       "      <td>737795</td>\n",
       "      <td>20070625</td>\n",
       "      <td>C</td>\n",
       "      <td>1700</td>\n",
       "      <td>30</td>\n",
       "      <td>0.657143</td>\n",
       "      <td>1497.74</td>\n",
       "      <td>0</td>\n",
       "      <td>1500</td>\n",
       "      <td>200</td>\n",
       "    </tr>\n",
       "  </tbody>\n",
       "</table>\n",
       "</div>"
      ],
      "text/plain": [
       "       Unnamed: 0  Unnamed: 0.1      date cp_flag  strike_price  expT  \\\n",
       "75418       42529        737783  20070625       C          1605    30   \n",
       "75419       42529        737783  20070625       C          1610    30   \n",
       "75420       42529        737783  20070625       C          1615    30   \n",
       "75421       42532        737791  20070625       C          1635    30   \n",
       "75422       42533        737793  20070625       C          1645    30   \n",
       "75423       42534        737795  20070625       C          1655    30   \n",
       "75424       42534        737795  20070625       C          1665    30   \n",
       "75425       42534        737795  20070625       C          1670    30   \n",
       "75426       42534        737795  20070625       C          1675    30   \n",
       "75427       42534        737795  20070625       C          1680    30   \n",
       "75428       42534        737795  20070625       C          1685    30   \n",
       "75429       42534        737795  20070625       C          1690    30   \n",
       "75430       42534        737795  20070625       C          1695    30   \n",
       "75431       42534        737795  20070625       C          1700    30   \n",
       "\n",
       "       mid_price    close  ITM  ATM_strike  OTM_K  \n",
       "75418   0.641071  1497.74    0        1500    105  \n",
       "75419   0.525000  1497.74    0        1500    110  \n",
       "75420   0.408929  1497.74    0        1500    115  \n",
       "75421   0.175000  1497.74    0        1500    135  \n",
       "75422   0.135714  1497.74    0        1500    145  \n",
       "75423   0.207143  1497.74    0        1500    155  \n",
       "75424   0.307143  1497.74    0        1500    165  \n",
       "75425   0.357143  1497.74    0        1500    170  \n",
       "75426   0.407143  1497.74    0        1500    175  \n",
       "75427   0.457143  1497.74    0        1500    180  \n",
       "75428   0.507143  1497.74    0        1500    185  \n",
       "75429   0.557143  1497.74    0        1500    190  \n",
       "75430   0.607143  1497.74    0        1500    195  \n",
       "75431   0.657143  1497.74    0        1500    200  "
      ]
     },
     "execution_count": 95,
     "metadata": {},
     "output_type": "execute_result"
    }
   ],
   "source": [
    "test[test['date']==date]"
   ]
  },
  {
   "cell_type": "code",
   "execution_count": 172,
   "metadata": {
    "collapsed": true,
    "jupyter": {
     "outputs_hidden": true
    }
   },
   "outputs": [
    {
     "data": {
      "text/plain": [
       "array([1996., 1996., 1996., 1996., 1996., 1996., 1996., 1996., 1996.,\n",
       "       1996., 1996., 1996., 1996., 1996., 1996., 1996., 1996., 1996.,\n",
       "       1996., 1996., 1996., 1996., 1996., 1996., 1996., 1996., 1996.,\n",
       "       1996., 1996., 1996., 1996., 1996., 1996., 1996., 1996., 1996.,\n",
       "       1996., 1996., 1996., 1996., 1996., 1996., 1996., 1996., 1996.,\n",
       "       1996., 1996., 1996., 1996., 1996., 1996., 1996., 1996., 1996.,\n",
       "       1996., 1996., 1996., 1996., 1996., 1996., 1996., 1996., 1996.,\n",
       "       1996., 1996., 1996., 1996., 1996., 1996., 1996., 1996., 1996.,\n",
       "       1996., 1996., 1996., 1996., 1996., 1996., 1996., 1996., 1996.,\n",
       "       1996., 1996., 1996., 1996., 1996., 1996., 1996., 1996., 1996.,\n",
       "       1996., 1996., 1996., 1996., 1996., 1996., 1996., 1996., 1996.,\n",
       "       1996., 1996., 1996., 1996., 1996., 1996., 1996., 1996., 1996.,\n",
       "       1996., 1996., 1996., 1996., 1996., 1996., 1996., 1996., 1996.,\n",
       "       1996., 1996., 1996., 1996., 1996., 1996., 1996., 1996., 1996.,\n",
       "       1996., 1996., 1996., 1996., 1996., 1996., 1996., 1996., 1996.,\n",
       "       1996., 1996., 1996., 1996., 1996., 1996., 1996., 1996., 1996.,\n",
       "       1996., 1996., 1996., 1996., 1996., 1996., 1996., 1996., 1996.,\n",
       "       1996., 1996., 1996., 1996., 1996., 1996., 1996., 1996., 1996.,\n",
       "       1996., 1996., 1996., 1996., 1996., 1996., 1996., 1996., 1996.,\n",
       "       1996., 1996., 1996., 1996., 1996., 1996., 1996., 1996., 1996.,\n",
       "       1996., 1996., 1996., 1996., 1996., 1996., 1996., 1996., 1996.,\n",
       "       1996., 1996., 1996., 1996., 1996., 1996., 1996., 1996., 1996.,\n",
       "       1996., 1996., 1996., 1996., 1996., 1996., 1996., 1996., 1996.,\n",
       "       1996., 1996., 1996., 1996., 1996., 1996., 1996., 1996., 1996.,\n",
       "       1996., 1996., 1996., 1996., 1996., 1996., 1996., 1996., 1996.,\n",
       "       1996., 1996., 1996., 1996., 1997., 1997., 1997., 1997., 1997.,\n",
       "       1997., 1997., 1997., 1997., 1997., 1997., 1997., 1997., 1997.,\n",
       "       1997., 1997., 1997., 1997., 1997., 1997., 1997., 1997., 1997.,\n",
       "       1997., 1997., 1997., 1997., 1997., 1997., 1997., 1997., 1997.,\n",
       "       1997., 1997., 1997., 1997., 1997., 1997., 1997., 1997., 1997.,\n",
       "       1997., 1997., 1997., 1997., 1997., 1997., 1997., 1997., 1997.,\n",
       "       1997., 1997., 1997., 1997., 1997., 1997., 1997., 1997., 1997.,\n",
       "       1997., 1997., 1997., 1997., 1997., 1997., 1997., 1997., 1997.,\n",
       "       1997., 1997., 1997., 1997., 1997., 1997., 1997., 1997., 1997.,\n",
       "       1997., 1997., 1997., 1997., 1997., 1997., 1997., 1997., 1997.,\n",
       "       1997., 1997., 1997., 1997., 1997., 1997., 1997., 1997., 1997.,\n",
       "       1997., 1997., 1997., 1997., 1997., 1997., 1997., 1997., 1997.,\n",
       "       1997., 1997., 1997., 1997., 1997., 1997., 1997., 1997., 1997.,\n",
       "       1997., 1997., 1997., 1997., 1997., 1997., 1997., 1997., 1997.,\n",
       "       1997., 1997., 1997., 1997., 1997., 1997., 1997., 1997., 1997.,\n",
       "       1997., 1997., 1997., 1997., 1997., 1997., 1997., 1997., 1997.,\n",
       "       1997., 1997., 1997., 1997., 1997., 1997., 1997., 1997., 1997.,\n",
       "       1997., 1997., 1997., 1997., 1997., 1997., 1997., 1997., 1997.,\n",
       "       1997., 1997., 1997., 1997., 1997., 1997., 1997., 1997., 1997.,\n",
       "       1997., 1997., 1997., 1997., 1997., 1997., 1997., 1997., 1997.,\n",
       "       1997., 1997., 1997., 1997., 1997., 1997., 1997., 1997., 1997.,\n",
       "       1997., 1997., 1997., 1997., 1997., 1997., 1997., 1997., 1997.,\n",
       "       1997., 1997., 1997., 1997., 1997., 1997., 1997., 1997., 1997.,\n",
       "       1997., 1997., 1997., 1997., 1997., 1997., 1997., 1997., 1997.,\n",
       "       1997., 1997., 1997., 1997., 1997., 1997., 1997., 1997., 1997.,\n",
       "       1997., 1997., 1997., 1997., 1997., 1997., 1998., 1998., 1998.,\n",
       "       1998., 1998., 1998., 1998., 1998., 1998., 1998., 1998., 1998.,\n",
       "       1998., 1998., 1998., 1998., 1998., 1998., 1998., 1998., 1998.,\n",
       "       1998., 1998., 1998., 1998., 1998., 1998., 1998., 1998., 1998.,\n",
       "       1998., 1998., 1998., 1998., 1998., 1998., 1998., 1998., 1998.,\n",
       "       1998., 1998., 1998., 1998., 1998., 1998., 1998., 1998., 1998.,\n",
       "       1998., 1998., 1998., 1998., 1998., 1998., 1998., 1998., 1998.,\n",
       "       1998., 1998., 1998., 1998., 1998., 1998., 1998., 1998., 1998.,\n",
       "       1998., 1998., 1998., 1998., 1998., 1998., 1998., 1998., 1998.,\n",
       "       1998., 1998., 1998., 1998., 1998., 1998., 1998., 1998., 1998.,\n",
       "       1998., 1998., 1998., 1998., 1998., 1998., 1998., 1998., 1998.,\n",
       "       1998., 1998., 1998., 1998., 1998., 1998., 1998., 1998., 1998.,\n",
       "       1998., 1998., 1998., 1998., 1998., 1998., 1998., 1998., 1998.,\n",
       "       1998., 1998., 1998., 1998., 1998., 1998., 1998., 1998., 1998.,\n",
       "       1998., 1998., 1998., 1998., 1998., 1998., 1998., 1998., 1998.,\n",
       "       1998., 1998., 1998., 1998., 1998., 1998., 1998., 1998., 1999.,\n",
       "       1999., 1999., 1999., 1999., 1999., 1999., 1999., 1999., 1999.,\n",
       "       1999., 1999., 1999., 1999., 1999., 1999., 1999., 1999., 1999.,\n",
       "       1999., 1999., 1999., 1999., 2000., 2000., 2000., 2000., 2000.,\n",
       "       2001., 2001., 2001., 2001., 2001., 2003., 2003., 2003., 2003.,\n",
       "       2004., 2004., 2004., 2004., 2004., 2004., 2004., 2004., 2004.,\n",
       "       2004., 2004., 2004., 2004., 2004., 2004., 2004., 2004., 2004.,\n",
       "       2004., 2004., 2004., 2004., 2004., 2004., 2004., 2004., 2004.,\n",
       "       2004., 2004., 2004., 2004., 2004., 2004., 2004., 2004., 2004.,\n",
       "       2004., 2004., 2004., 2004., 2004., 2004., 2004., 2004., 2004.,\n",
       "       2004., 2004., 2004., 2004., 2004., 2004., 2004., 2004., 2004.,\n",
       "       2004., 2004., 2004., 2004., 2004., 2004., 2004., 2004., 2004.,\n",
       "       2004., 2004., 2004., 2004., 2004., 2004., 2004., 2004., 2004.,\n",
       "       2004., 2004., 2004., 2004., 2004., 2004., 2004., 2004., 2004.,\n",
       "       2004., 2004., 2004., 2004., 2004., 2004., 2004., 2004., 2004.,\n",
       "       2004., 2004., 2004., 2004., 2004., 2004., 2004., 2004., 2004.,\n",
       "       2004., 2004., 2004., 2004., 2005., 2005., 2005., 2005., 2005.,\n",
       "       2005., 2005., 2005., 2005., 2005., 2005., 2005., 2005., 2005.,\n",
       "       2005., 2005., 2005., 2005., 2005., 2005., 2005., 2005., 2005.,\n",
       "       2005., 2005., 2005., 2005., 2005., 2005., 2005., 2005., 2005.,\n",
       "       2005., 2005., 2005., 2005., 2005., 2005., 2005., 2005., 2005.,\n",
       "       2005., 2005., 2005., 2005., 2005., 2005., 2005., 2005., 2005.,\n",
       "       2005., 2005., 2006., 2006., 2006., 2006., 2006., 2006., 2006.,\n",
       "       2006., 2006., 2006., 2006., 2006., 2006., 2006., 2006., 2006.,\n",
       "       2006., 2006., 2006., 2006., 2006., 2006., 2006., 2006., 2006.,\n",
       "       2006., 2006., 2006., 2006., 2006., 2006., 2006., 2006., 2006.,\n",
       "       2006., 2006., 2006., 2006., 2006., 2006., 2006., 2006., 2006.,\n",
       "       2006., 2006., 2006., 2006., 2006., 2006., 2006., 2006., 2006.,\n",
       "       2006., 2006., 2006., 2006., 2007., 2007., 2007., 2007., 2007.,\n",
       "       2007., 2007., 2007., 2007., 2007., 2007., 2007., 2007., 2007.,\n",
       "       2007., 2007., 2007., 2007., 2007., 2007., 2007., 2007., 2007.,\n",
       "       2007., 2007., 2007., 2007., 2007., 2007., 2007., 2007., 2007.,\n",
       "       2007., 2007., 2007., 2007., 2007., 2007., 2007., 2007., 2007.,\n",
       "       2007., 2007., 2007., 2007., 2007., 2007., 2007., 2007., 2007.,\n",
       "       2007., 2007., 2007., 2007., 2007., 2007., 2007., 2007., 2007.,\n",
       "       2007., 2007., 2007., 2007., 2007., 2007., 2007., 2007., 2007.,\n",
       "       2007., 2007., 2007., 2007., 2007., 2007., 2007., 2007., 2007.,\n",
       "       2007., 2007., 2007., 2007., 2007., 2007., 2007., 2007., 2007.,\n",
       "       2007., 2007., 2008., 2008., 2008., 2008., 2008., 2008., 2008.,\n",
       "       2008., 2008., 2008., 2008., 2008., 2009., 2009., 2009., 2009.,\n",
       "       2009., 2009., 2009., 2009., 2009., 2009., 2009., 2009., 2009.,\n",
       "       2009., 2009., 2010., 2010., 2010., 2010., 2010., 2010., 2010.,\n",
       "       2010., 2010., 2010., 2010., 2010., 2010., 2010., 2010., 2011.,\n",
       "       2011., 2011., 2011., 2011., 2011., 2011., 2011., 2013., 2013.,\n",
       "       2013., 2013., 2013.])"
      ]
     },
     "execution_count": 172,
     "metadata": {},
     "output_type": "execute_result"
    }
   ],
   "source": [
    "np.round(problem.values/10000,0)"
   ]
  },
  {
   "cell_type": "code",
   "execution_count": 14,
   "metadata": {},
   "outputs": [
    {
     "data": {
      "text/plain": [
       "(array([81.,  0.,  0.,  0.,  0.,  0.,  0.,  0.,  0.,  0.,  0.,  0.,  0.,\n",
       "         0.,  0.,  0.,  0.]),\n",
       " array([1996, 1997, 1998, 1999, 2000, 2001, 2002, 2003, 2004, 2005, 2006,\n",
       "        2007, 2008, 2009, 2010, 2011, 2012, 2013]),\n",
       " <a list of 17 Patch objects>)"
      ]
     },
     "execution_count": 14,
     "metadata": {},
     "output_type": "execute_result"
    },
    {
     "data": {
      "image/png": "[encoded data removed]",
      "text/plain": [
       "<Figure size 432x288 with 1 Axes>"
      ]
     },
     "metadata": {
      "needs_background": "light"
     },
     "output_type": "display_data"
    }
   ],
   "source": [
    "plt.hist(np.round(problem.values/10000,0),bins=[1996,1997,1998,1999,2000,2001,2002,2003,2004,2005,2006,2007,2008,2009,2010,2011,2012,2013])\n"
   ]
  },
  {
   "cell_type": "code",
   "execution_count": 13,
   "metadata": {},
   "outputs": [
    {
     "data": {
      "text/plain": [
       "<matplotlib.axes._subplots.AxesSubplot at 0x7fd9e1a7f2e8>"
      ]
     },
     "execution_count": 13,
     "metadata": {},
     "output_type": "execute_result"
    },
    {
     "data": {
      "image/png": "[encoded data removed]",
      "text/plain": [
       "<Figure size 432x288 with 1 Axes>"
      ]
     },
     "metadata": {
      "needs_background": "light"
     },
     "output_type": "display_data"
    }
   ],
   "source": [
    "problem = pd.to_numeric(miscall30[miscall30['mid_price']<=0]['date'].drop_duplicates())\n",
    "problem.plot(kind='hist', bins=40)\n"
   ]
  },
  {
   "cell_type": "code",
   "execution_count": 11,
   "metadata": {},
   "outputs": [
    {
     "data": {
      "text/plain": [
       "9      19960104\n",
       "20     19960105\n",
       "30     19960108\n",
       "42     19960109\n",
       "55     19960110\n",
       "         ...   \n",
       "942    19960501\n",
       "957    19960502\n",
       "973    19960503\n",
       "989    19960506\n",
       "999    19960507\n",
       "Name: date, Length: 81, dtype: object"
      ]
     },
     "execution_count": 11,
     "metadata": {},
     "output_type": "execute_result"
    }
   ],
   "source": [
    "problem"
   ]
  },
  {
   "cell_type": "code",
   "execution_count": 144,
   "metadata": {},
   "outputs": [
    {
     "data": {
      "text/plain": [
       "0         19960104\n",
       "8         19960105\n",
       "16        19960108\n",
       "24        19960109\n",
       "34        19960110\n",
       "            ...   \n",
       "166251    20171222\n",
       "166302    20171226\n",
       "166353    20171227\n",
       "166406    20171228\n",
       "166458    20171229\n",
       "Name: date, Length: 5379, dtype: int64"
      ]
     },
     "execution_count": 144,
     "metadata": {},
     "output_type": "execute_result"
    }
   ],
   "source": [
    "call30['date'].drop_duplicates()"
   ]
  },
  {
   "cell_type": "code",
   "execution_count": 147,
   "metadata": {},
   "outputs": [
    {
     "data": {
      "text/plain": [
       "0.2086071655713377"
      ]
     },
     "execution_count": 147,
     "metadata": {},
     "output_type": "execute_result"
    }
   ],
   "source": [
    "984/4717"
   ]
  },
  {
   "cell_type": "code",
   "execution_count": null,
   "metadata": {},
   "outputs": [],
   "source": []
  }
 ],
 "metadata": {
  "kernelspec": {
   "display_name": "Python 3",
   "language": "python",
   "name": "python3"
  },
  "language_info": {
   "codemirror_mode": {
    "name": "ipython",
    "version": 3
   },
   "file_extension": ".py",
   "mimetype": "text/x-python",
   "name": "python",
   "nbconvert_exporter": "python",
   "pygments_lexer": "ipython3",
   "version": "3.6.9"
  }
 },
 "nbformat": 4,
 "nbformat_minor": 4
}
